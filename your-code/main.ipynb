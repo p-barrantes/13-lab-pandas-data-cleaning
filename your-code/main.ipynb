{
 "cells": [
  {
   "cell_type": "markdown",
   "metadata": {},
   "source": [
    "#### 1. Import pandas library"
   ]
  },
  {
   "cell_type": "code",
   "execution_count": 1,
   "metadata": {},
   "outputs": [],
   "source": [
    "import pandas as pd"
   ]
  },
  {
   "cell_type": "markdown",
   "metadata": {},
   "source": [
    "#### 2. Load data (users.csv, posts.csv)"
   ]
  },
  {
   "cell_type": "code",
   "execution_count": 2,
   "metadata": {},
   "outputs": [],
   "source": [
    "users = pd.read_csv('./users.csv')"
   ]
  },
  {
   "cell_type": "code",
   "execution_count": 3,
   "metadata": {},
   "outputs": [],
   "source": [
    "posts = pd.read_csv('./posts.csv')"
   ]
  },
  {
   "cell_type": "markdown",
   "metadata": {},
   "source": [
    "#### 3. Rename id column to user_id"
   ]
  },
  {
   "cell_type": "code",
   "execution_count": 4,
   "metadata": {
    "collapsed": true
   },
   "outputs": [],
   "source": [
    "users.rename(columns={'id': 'user_id'}, inplace=True)"
   ]
  },
  {
   "cell_type": "markdown",
   "metadata": {},
   "source": [
    "#### 4. Rename id column to post_id and owner_user_id to user_id"
   ]
  },
  {
   "cell_type": "code",
   "execution_count": 5,
   "metadata": {
    "collapsed": true
   },
   "outputs": [],
   "source": [
    "posts.rename(columns={'id': 'post_id', 'owner_user_id': 'user_id'}, inplace=True)"
   ]
  },
  {
   "cell_type": "markdown",
   "metadata": {},
   "source": [
    "#### 5. Define new dataframes for users and posts with the following selected columns:\n",
    "    **users columns**: user_id, reputation,views,up_votes,down_votes\n",
    "    **posts columns**: post_id, score,user_id,view_count,comment_count"
   ]
  },
  {
   "cell_type": "code",
   "execution_count": 6,
   "metadata": {},
   "outputs": [
    {
     "output_type": "execute_result",
     "data": {
      "text/plain": [
       "   user_id  reputation  views  up_votes  down_votes\n",
       "0   107658         305     91         2           0\n",
       "1   218597        6559    374       361          25\n",
       "2   326360        1802     97        40          14\n",
       "3   379556        2335    261       125          10\n",
       "4   450456        7746   3598       256          50"
      ],
      "text/html": "<div>\n<style scoped>\n    .dataframe tbody tr th:only-of-type {\n        vertical-align: middle;\n    }\n\n    .dataframe tbody tr th {\n        vertical-align: top;\n    }\n\n    .dataframe thead th {\n        text-align: right;\n    }\n</style>\n<table border=\"1\" class=\"dataframe\">\n  <thead>\n    <tr style=\"text-align: right;\">\n      <th></th>\n      <th>user_id</th>\n      <th>reputation</th>\n      <th>views</th>\n      <th>up_votes</th>\n      <th>down_votes</th>\n    </tr>\n  </thead>\n  <tbody>\n    <tr>\n      <th>0</th>\n      <td>107658</td>\n      <td>305</td>\n      <td>91</td>\n      <td>2</td>\n      <td>0</td>\n    </tr>\n    <tr>\n      <th>1</th>\n      <td>218597</td>\n      <td>6559</td>\n      <td>374</td>\n      <td>361</td>\n      <td>25</td>\n    </tr>\n    <tr>\n      <th>2</th>\n      <td>326360</td>\n      <td>1802</td>\n      <td>97</td>\n      <td>40</td>\n      <td>14</td>\n    </tr>\n    <tr>\n      <th>3</th>\n      <td>379556</td>\n      <td>2335</td>\n      <td>261</td>\n      <td>125</td>\n      <td>10</td>\n    </tr>\n    <tr>\n      <th>4</th>\n      <td>450456</td>\n      <td>7746</td>\n      <td>3598</td>\n      <td>256</td>\n      <td>50</td>\n    </tr>\n  </tbody>\n</table>\n</div>"
     },
     "metadata": {},
     "execution_count": 6
    }
   ],
   "source": [
    "new_users = users[['user_id', 'reputation', 'views', 'up_votes', 'down_votes']]\n",
    "new_users.head()"
   ]
  },
  {
   "cell_type": "code",
   "execution_count": 7,
   "metadata": {},
   "outputs": [
    {
     "output_type": "execute_result",
     "data": {
      "text/plain": [
       "    post_id  score  user_id  view_count  comment_count\n",
       "0  30336926      1      NaN          14              3\n",
       "1  36873524      1      NaN          18              0\n",
       "2  36605876      1      NaN          19              0\n",
       "3  36718461      1      NaN          17              0\n",
       "4  30434893      0      NaN          15              0"
      ],
      "text/html": "<div>\n<style scoped>\n    .dataframe tbody tr th:only-of-type {\n        vertical-align: middle;\n    }\n\n    .dataframe tbody tr th {\n        vertical-align: top;\n    }\n\n    .dataframe thead th {\n        text-align: right;\n    }\n</style>\n<table border=\"1\" class=\"dataframe\">\n  <thead>\n    <tr style=\"text-align: right;\">\n      <th></th>\n      <th>post_id</th>\n      <th>score</th>\n      <th>user_id</th>\n      <th>view_count</th>\n      <th>comment_count</th>\n    </tr>\n  </thead>\n  <tbody>\n    <tr>\n      <th>0</th>\n      <td>30336926</td>\n      <td>1</td>\n      <td>NaN</td>\n      <td>14</td>\n      <td>3</td>\n    </tr>\n    <tr>\n      <th>1</th>\n      <td>36873524</td>\n      <td>1</td>\n      <td>NaN</td>\n      <td>18</td>\n      <td>0</td>\n    </tr>\n    <tr>\n      <th>2</th>\n      <td>36605876</td>\n      <td>1</td>\n      <td>NaN</td>\n      <td>19</td>\n      <td>0</td>\n    </tr>\n    <tr>\n      <th>3</th>\n      <td>36718461</td>\n      <td>1</td>\n      <td>NaN</td>\n      <td>17</td>\n      <td>0</td>\n    </tr>\n    <tr>\n      <th>4</th>\n      <td>30434893</td>\n      <td>0</td>\n      <td>NaN</td>\n      <td>15</td>\n      <td>0</td>\n    </tr>\n  </tbody>\n</table>\n</div>"
     },
     "metadata": {},
     "execution_count": 7
    }
   ],
   "source": [
    "new_posts = posts[['post_id', 'score', 'user_id', 'view_count', 'comment_count']]\n",
    "new_posts.head()"
   ]
  },
  {
   "cell_type": "markdown",
   "metadata": {},
   "source": [
    "#### 6. Merge both dataframes, users and posts. \n",
    "You will need to make a [merge](https://pandas.pydata.org/pandas-docs/stable/generated/pandas.DataFrame.merge.html) of posts and users dataframes."
   ]
  },
  {
   "cell_type": "code",
   "execution_count": 8,
   "metadata": {},
   "outputs": [],
   "source": [
    "merged_df = new_users.merge(new_posts)"
   ]
  },
  {
   "cell_type": "code",
   "execution_count": 9,
   "metadata": {},
   "outputs": [
    {
     "output_type": "execute_result",
     "data": {
      "text/plain": [
       "   user_id  reputation  views  up_votes  down_votes   post_id  score  \\\n",
       "0   450456        7746   3598       256          50  34989087      0   \n",
       "1   450456        7746   3598       256          50   4142174      0   \n",
       "2  1517244        4172    224      1362          32  37211628      2   \n",
       "3  1870509         897    105        86           2  30260248      1   \n",
       "4   101719        4055    332       174          16  34528617      0   \n",
       "\n",
       "   view_count  comment_count  \n",
       "0          19              0  \n",
       "1          15              0  \n",
       "2          18              0  \n",
       "3          11              4  \n",
       "4          18              0  "
      ],
      "text/html": "<div>\n<style scoped>\n    .dataframe tbody tr th:only-of-type {\n        vertical-align: middle;\n    }\n\n    .dataframe tbody tr th {\n        vertical-align: top;\n    }\n\n    .dataframe thead th {\n        text-align: right;\n    }\n</style>\n<table border=\"1\" class=\"dataframe\">\n  <thead>\n    <tr style=\"text-align: right;\">\n      <th></th>\n      <th>user_id</th>\n      <th>reputation</th>\n      <th>views</th>\n      <th>up_votes</th>\n      <th>down_votes</th>\n      <th>post_id</th>\n      <th>score</th>\n      <th>view_count</th>\n      <th>comment_count</th>\n    </tr>\n  </thead>\n  <tbody>\n    <tr>\n      <th>0</th>\n      <td>450456</td>\n      <td>7746</td>\n      <td>3598</td>\n      <td>256</td>\n      <td>50</td>\n      <td>34989087</td>\n      <td>0</td>\n      <td>19</td>\n      <td>0</td>\n    </tr>\n    <tr>\n      <th>1</th>\n      <td>450456</td>\n      <td>7746</td>\n      <td>3598</td>\n      <td>256</td>\n      <td>50</td>\n      <td>4142174</td>\n      <td>0</td>\n      <td>15</td>\n      <td>0</td>\n    </tr>\n    <tr>\n      <th>2</th>\n      <td>1517244</td>\n      <td>4172</td>\n      <td>224</td>\n      <td>1362</td>\n      <td>32</td>\n      <td>37211628</td>\n      <td>2</td>\n      <td>18</td>\n      <td>0</td>\n    </tr>\n    <tr>\n      <th>3</th>\n      <td>1870509</td>\n      <td>897</td>\n      <td>105</td>\n      <td>86</td>\n      <td>2</td>\n      <td>30260248</td>\n      <td>1</td>\n      <td>11</td>\n      <td>4</td>\n    </tr>\n    <tr>\n      <th>4</th>\n      <td>101719</td>\n      <td>4055</td>\n      <td>332</td>\n      <td>174</td>\n      <td>16</td>\n      <td>34528617</td>\n      <td>0</td>\n      <td>18</td>\n      <td>0</td>\n    </tr>\n  </tbody>\n</table>\n</div>"
     },
     "metadata": {},
     "execution_count": 9
    }
   ],
   "source": [
    "merged_df.head()"
   ]
  },
  {
   "cell_type": "markdown",
   "metadata": {},
   "source": [
    "#### 7. How many missing values do you have in your merged dataframe? "
   ]
  },
  {
   "cell_type": "code",
   "execution_count": 10,
   "metadata": {},
   "outputs": [
    {
     "output_type": "execute_result",
     "data": {
      "text/plain": [
       "user_id          0\n",
       "reputation       0\n",
       "views            0\n",
       "up_votes         0\n",
       "down_votes       0\n",
       "post_id          0\n",
       "score            0\n",
       "view_count       0\n",
       "comment_count    0\n",
       "dtype: int64"
      ]
     },
     "metadata": {},
     "execution_count": 10
    }
   ],
   "source": [
    "merged_df.isnull().sum()"
   ]
  },
  {
   "cell_type": "markdown",
   "metadata": {},
   "source": [
    "There are no missing values"
   ]
  },
  {
   "cell_type": "markdown",
   "metadata": {},
   "source": [
    "#### Bonus: Identify extreme values in your merged dataframe, create a dataframe called outliers with the same columns as our data set and calculate the bounds. The values of the outliers dataframe will be the values of the merged_df that fall outside that bounds. You will need to save your outliers dataframe to a csv file on your-code folder. Hint: post_id cannot have outliers!"
   ]
  },
  {
   "source": [
    "An outlier is a point which falls more than 1.5 times the interquartile range above the third quartile or below the first quartile.\n",
    "\n",
    "##### IQR (interquartile range)\n",
    "- 1st quartile - (1.5 * IQR) \n",
    "- 3rd quartile + (1.5 * IQR)"
   ],
   "cell_type": "markdown",
   "metadata": {}
  },
  {
   "cell_type": "code",
   "execution_count": 11,
   "metadata": {},
   "outputs": [
    {
     "output_type": "execute_result",
     "data": {
      "text/plain": [
       "                count         mean           std  min    25%     50%     75%  \\\n",
       "reputation     1065.0  7251.176526  24021.612286  1.0  246.0  1145.0  5206.0   \n",
       "views          1065.0   615.245070   1497.407529  0.0   39.0   145.0   496.0   \n",
       "up_votes       1065.0   397.688263    747.628862  0.0   15.0    96.0   375.0   \n",
       "down_votes     1065.0    49.415023    177.308773  0.0    0.0     3.0    20.0   \n",
       "score          1065.0     0.123944      0.578141 -7.0    0.0     0.0     0.0   \n",
       "view_count     1065.0    15.606573      3.711159  3.0   13.0    17.0    19.0   \n",
       "comment_count  1065.0     0.926761      1.627503  0.0    0.0     0.0     1.0   \n",
       "\n",
       "                    max  \n",
       "reputation     287170.0  \n",
       "views           23103.0  \n",
       "up_votes         7886.0  \n",
       "down_votes       2692.0  \n",
       "score               3.0  \n",
       "view_count         20.0  \n",
       "comment_count      11.0  "
      ],
      "text/html": "<div>\n<style scoped>\n    .dataframe tbody tr th:only-of-type {\n        vertical-align: middle;\n    }\n\n    .dataframe tbody tr th {\n        vertical-align: top;\n    }\n\n    .dataframe thead th {\n        text-align: right;\n    }\n</style>\n<table border=\"1\" class=\"dataframe\">\n  <thead>\n    <tr style=\"text-align: right;\">\n      <th></th>\n      <th>count</th>\n      <th>mean</th>\n      <th>std</th>\n      <th>min</th>\n      <th>25%</th>\n      <th>50%</th>\n      <th>75%</th>\n      <th>max</th>\n    </tr>\n  </thead>\n  <tbody>\n    <tr>\n      <th>reputation</th>\n      <td>1065.0</td>\n      <td>7251.176526</td>\n      <td>24021.612286</td>\n      <td>1.0</td>\n      <td>246.0</td>\n      <td>1145.0</td>\n      <td>5206.0</td>\n      <td>287170.0</td>\n    </tr>\n    <tr>\n      <th>views</th>\n      <td>1065.0</td>\n      <td>615.245070</td>\n      <td>1497.407529</td>\n      <td>0.0</td>\n      <td>39.0</td>\n      <td>145.0</td>\n      <td>496.0</td>\n      <td>23103.0</td>\n    </tr>\n    <tr>\n      <th>up_votes</th>\n      <td>1065.0</td>\n      <td>397.688263</td>\n      <td>747.628862</td>\n      <td>0.0</td>\n      <td>15.0</td>\n      <td>96.0</td>\n      <td>375.0</td>\n      <td>7886.0</td>\n    </tr>\n    <tr>\n      <th>down_votes</th>\n      <td>1065.0</td>\n      <td>49.415023</td>\n      <td>177.308773</td>\n      <td>0.0</td>\n      <td>0.0</td>\n      <td>3.0</td>\n      <td>20.0</td>\n      <td>2692.0</td>\n    </tr>\n    <tr>\n      <th>score</th>\n      <td>1065.0</td>\n      <td>0.123944</td>\n      <td>0.578141</td>\n      <td>-7.0</td>\n      <td>0.0</td>\n      <td>0.0</td>\n      <td>0.0</td>\n      <td>3.0</td>\n    </tr>\n    <tr>\n      <th>view_count</th>\n      <td>1065.0</td>\n      <td>15.606573</td>\n      <td>3.711159</td>\n      <td>3.0</td>\n      <td>13.0</td>\n      <td>17.0</td>\n      <td>19.0</td>\n      <td>20.0</td>\n    </tr>\n    <tr>\n      <th>comment_count</th>\n      <td>1065.0</td>\n      <td>0.926761</td>\n      <td>1.627503</td>\n      <td>0.0</td>\n      <td>0.0</td>\n      <td>0.0</td>\n      <td>1.0</td>\n      <td>11.0</td>\n    </tr>\n  </tbody>\n</table>\n</div>"
     },
     "metadata": {},
     "execution_count": 11
    }
   ],
   "source": [
    "# Look for the stats, transpose the dataframe to have the correct columns in place and remove 'user_id' and 'post_id'\n",
    "stats = merged_df.copy().describe().transpose()\n",
    "stats.drop(['user_id', 'post_id'], inplace=True)\n",
    "stats"
   ]
  },
  {
   "cell_type": "code",
   "execution_count": 12,
   "metadata": {},
   "outputs": [
    {
     "output_type": "execute_result",
     "data": {
      "text/plain": [
       "                count         mean           std  min    25%     50%     75%  \\\n",
       "reputation     1065.0  7251.176526  24021.612286  1.0  246.0  1145.0  5206.0   \n",
       "views          1065.0   615.245070   1497.407529  0.0   39.0   145.0   496.0   \n",
       "up_votes       1065.0   397.688263    747.628862  0.0   15.0    96.0   375.0   \n",
       "down_votes     1065.0    49.415023    177.308773  0.0    0.0     3.0    20.0   \n",
       "score          1065.0     0.123944      0.578141 -7.0    0.0     0.0     0.0   \n",
       "view_count     1065.0    15.606573      3.711159  3.0   13.0    17.0    19.0   \n",
       "comment_count  1065.0     0.926761      1.627503  0.0    0.0     0.0     1.0   \n",
       "\n",
       "                    max     IQR  \n",
       "reputation     287170.0  4960.0  \n",
       "views           23103.0   457.0  \n",
       "up_votes         7886.0   360.0  \n",
       "down_votes       2692.0    20.0  \n",
       "score               3.0     0.0  \n",
       "view_count         20.0     6.0  \n",
       "comment_count      11.0     1.0  "
      ],
      "text/html": "<div>\n<style scoped>\n    .dataframe tbody tr th:only-of-type {\n        vertical-align: middle;\n    }\n\n    .dataframe tbody tr th {\n        vertical-align: top;\n    }\n\n    .dataframe thead th {\n        text-align: right;\n    }\n</style>\n<table border=\"1\" class=\"dataframe\">\n  <thead>\n    <tr style=\"text-align: right;\">\n      <th></th>\n      <th>count</th>\n      <th>mean</th>\n      <th>std</th>\n      <th>min</th>\n      <th>25%</th>\n      <th>50%</th>\n      <th>75%</th>\n      <th>max</th>\n      <th>IQR</th>\n    </tr>\n  </thead>\n  <tbody>\n    <tr>\n      <th>reputation</th>\n      <td>1065.0</td>\n      <td>7251.176526</td>\n      <td>24021.612286</td>\n      <td>1.0</td>\n      <td>246.0</td>\n      <td>1145.0</td>\n      <td>5206.0</td>\n      <td>287170.0</td>\n      <td>4960.0</td>\n    </tr>\n    <tr>\n      <th>views</th>\n      <td>1065.0</td>\n      <td>615.245070</td>\n      <td>1497.407529</td>\n      <td>0.0</td>\n      <td>39.0</td>\n      <td>145.0</td>\n      <td>496.0</td>\n      <td>23103.0</td>\n      <td>457.0</td>\n    </tr>\n    <tr>\n      <th>up_votes</th>\n      <td>1065.0</td>\n      <td>397.688263</td>\n      <td>747.628862</td>\n      <td>0.0</td>\n      <td>15.0</td>\n      <td>96.0</td>\n      <td>375.0</td>\n      <td>7886.0</td>\n      <td>360.0</td>\n    </tr>\n    <tr>\n      <th>down_votes</th>\n      <td>1065.0</td>\n      <td>49.415023</td>\n      <td>177.308773</td>\n      <td>0.0</td>\n      <td>0.0</td>\n      <td>3.0</td>\n      <td>20.0</td>\n      <td>2692.0</td>\n      <td>20.0</td>\n    </tr>\n    <tr>\n      <th>score</th>\n      <td>1065.0</td>\n      <td>0.123944</td>\n      <td>0.578141</td>\n      <td>-7.0</td>\n      <td>0.0</td>\n      <td>0.0</td>\n      <td>0.0</td>\n      <td>3.0</td>\n      <td>0.0</td>\n    </tr>\n    <tr>\n      <th>view_count</th>\n      <td>1065.0</td>\n      <td>15.606573</td>\n      <td>3.711159</td>\n      <td>3.0</td>\n      <td>13.0</td>\n      <td>17.0</td>\n      <td>19.0</td>\n      <td>20.0</td>\n      <td>6.0</td>\n    </tr>\n    <tr>\n      <th>comment_count</th>\n      <td>1065.0</td>\n      <td>0.926761</td>\n      <td>1.627503</td>\n      <td>0.0</td>\n      <td>0.0</td>\n      <td>0.0</td>\n      <td>1.0</td>\n      <td>11.0</td>\n      <td>1.0</td>\n    </tr>\n  </tbody>\n</table>\n</div>"
     },
     "metadata": {},
     "execution_count": 12
    }
   ],
   "source": [
    "# Calculate the IQR and add it as a column to the previous dataframe\n",
    "stats['IQR'] = stats['75%'] - stats['25%']\n",
    "stats"
   ]
  },
  {
   "cell_type": "code",
   "execution_count": 13,
   "metadata": {},
   "outputs": [
    {
     "output_type": "execute_result",
     "data": {
      "text/plain": [
       "          reputation         views     up_votes   down_votes        score  \\\n",
       "count    1065.000000   1065.000000  1065.000000  1065.000000  1065.000000   \n",
       "mean     7251.176526    615.245070   397.688263    49.415023     0.123944   \n",
       "std     24021.612286   1497.407529   747.628862   177.308773     0.578141   \n",
       "min         1.000000      0.000000     0.000000     0.000000    -7.000000   \n",
       "25%       246.000000     39.000000    15.000000     0.000000     0.000000   \n",
       "50%      1145.000000    145.000000    96.000000     3.000000     0.000000   \n",
       "75%      5206.000000    496.000000   375.000000    20.000000     0.000000   \n",
       "max    287170.000000  23103.000000  7886.000000  2692.000000     3.000000   \n",
       "\n",
       "        view_count  comment_count  \n",
       "count  1065.000000    1065.000000  \n",
       "mean     15.606573       0.926761  \n",
       "std       3.711159       1.627503  \n",
       "min       3.000000       0.000000  \n",
       "25%      13.000000       0.000000  \n",
       "50%      17.000000       0.000000  \n",
       "75%      19.000000       1.000000  \n",
       "max      20.000000      11.000000  "
      ],
      "text/html": "<div>\n<style scoped>\n    .dataframe tbody tr th:only-of-type {\n        vertical-align: middle;\n    }\n\n    .dataframe tbody tr th {\n        vertical-align: top;\n    }\n\n    .dataframe thead th {\n        text-align: right;\n    }\n</style>\n<table border=\"1\" class=\"dataframe\">\n  <thead>\n    <tr style=\"text-align: right;\">\n      <th></th>\n      <th>reputation</th>\n      <th>views</th>\n      <th>up_votes</th>\n      <th>down_votes</th>\n      <th>score</th>\n      <th>view_count</th>\n      <th>comment_count</th>\n    </tr>\n  </thead>\n  <tbody>\n    <tr>\n      <th>count</th>\n      <td>1065.000000</td>\n      <td>1065.000000</td>\n      <td>1065.000000</td>\n      <td>1065.000000</td>\n      <td>1065.000000</td>\n      <td>1065.000000</td>\n      <td>1065.000000</td>\n    </tr>\n    <tr>\n      <th>mean</th>\n      <td>7251.176526</td>\n      <td>615.245070</td>\n      <td>397.688263</td>\n      <td>49.415023</td>\n      <td>0.123944</td>\n      <td>15.606573</td>\n      <td>0.926761</td>\n    </tr>\n    <tr>\n      <th>std</th>\n      <td>24021.612286</td>\n      <td>1497.407529</td>\n      <td>747.628862</td>\n      <td>177.308773</td>\n      <td>0.578141</td>\n      <td>3.711159</td>\n      <td>1.627503</td>\n    </tr>\n    <tr>\n      <th>min</th>\n      <td>1.000000</td>\n      <td>0.000000</td>\n      <td>0.000000</td>\n      <td>0.000000</td>\n      <td>-7.000000</td>\n      <td>3.000000</td>\n      <td>0.000000</td>\n    </tr>\n    <tr>\n      <th>25%</th>\n      <td>246.000000</td>\n      <td>39.000000</td>\n      <td>15.000000</td>\n      <td>0.000000</td>\n      <td>0.000000</td>\n      <td>13.000000</td>\n      <td>0.000000</td>\n    </tr>\n    <tr>\n      <th>50%</th>\n      <td>1145.000000</td>\n      <td>145.000000</td>\n      <td>96.000000</td>\n      <td>3.000000</td>\n      <td>0.000000</td>\n      <td>17.000000</td>\n      <td>0.000000</td>\n    </tr>\n    <tr>\n      <th>75%</th>\n      <td>5206.000000</td>\n      <td>496.000000</td>\n      <td>375.000000</td>\n      <td>20.000000</td>\n      <td>0.000000</td>\n      <td>19.000000</td>\n      <td>1.000000</td>\n    </tr>\n    <tr>\n      <th>max</th>\n      <td>287170.000000</td>\n      <td>23103.000000</td>\n      <td>7886.000000</td>\n      <td>2692.000000</td>\n      <td>3.000000</td>\n      <td>20.000000</td>\n      <td>11.000000</td>\n    </tr>\n  </tbody>\n</table>\n</div>"
     },
     "metadata": {},
     "execution_count": 13
    }
   ],
   "source": [
    "# Transpose again so we have a new dataset with the same columns as the previous one\n",
    "outliers = stats.transpose()\n",
    "outliers.drop(axis=0, index='IQR', inplace=True)\n",
    "outliers"
   ]
  },
  {
   "cell_type": "code",
   "execution_count": 14,
   "metadata": {},
   "outputs": [],
   "source": [
    "# I should loop through all the columns here and find the outliers, but I don't know how to do it."
   ]
  }
 ],
 "metadata": {
  "kernelspec": {
   "display_name": "Python 3",
   "language": "python",
   "name": "python3"
  },
  "language_info": {
   "codemirror_mode": {
    "name": "ipython",
    "version": 3
   },
   "file_extension": ".py",
   "mimetype": "text/x-python",
   "name": "python",
   "nbconvert_exporter": "python",
   "pygments_lexer": "ipython3",
   "version": "3.8.5-final"
  },
  "toc": {
   "base_numbering": 1,
   "nav_menu": {},
   "number_sections": true,
   "sideBar": true,
   "skip_h1_title": false,
   "title_cell": "Table of Contents",
   "title_sidebar": "Contents",
   "toc_cell": false,
   "toc_position": {},
   "toc_section_display": true,
   "toc_window_display": false
  },
  "varInspector": {
   "cols": {
    "lenName": 16,
    "lenType": 16,
    "lenVar": 40
   },
   "kernels_config": {
    "python": {
     "delete_cmd_postfix": "",
     "delete_cmd_prefix": "del ",
     "library": "var_list.py",
     "varRefreshCmd": "print(var_dic_list())"
    },
    "r": {
     "delete_cmd_postfix": ") ",
     "delete_cmd_prefix": "rm(",
     "library": "var_list.r",
     "varRefreshCmd": "cat(var_dic_list()) "
    }
   },
   "types_to_exclude": [
    "module",
    "function",
    "builtin_function_or_method",
    "instance",
    "_Feature"
   ],
   "window_display": false
  }
 },
 "nbformat": 4,
 "nbformat_minor": 2
}